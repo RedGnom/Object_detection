{
 "cells": [
  {
   "cell_type": "code",
   "execution_count": null,
   "id": "66e9a75e-575a-4f74-902b-e57372a50896",
   "metadata": {},
   "outputs": [],
   "source": [
    "from ultralytics import YOLO\n",
    "\n",
    "# Загрузка модели YOLOv8 Medium\n",
    "model = YOLO('yolov8m.pt')\n",
    "\n",
    "# Запуск тренировки\n",
    "results = model.train(data='E:/Object_detection/dataset/data.yaml', epochs=100)\n",
    "\n",
    "# Вывод результатов\n",
    "print(results)\n"
   ]
  },
  {
   "cell_type": "code",
   "execution_count": null,
   "id": "c8459302-828c-4b8b-8b52-3c763fd4a747",
   "metadata": {},
   "outputs": [],
   "source": [
    "from ultralytics import YOLO\n",
    "\n",
    "# Загрузка частично обученной модели\n",
    "model = YOLO(\"E:/Object_detection/runs/detect/train/weights/last.pt\")  \n",
    "\n",
    "# Возобновление тренировки\n",
    "results = model.train(resume=True)\n",
    "\n",
    "print(results)\n"
   ]
  },
  {
   "cell_type": "code",
   "execution_count": null,
   "id": "dbb2e1dc-f785-4a31-86ec-4e67f64ab57d",
   "metadata": {},
   "outputs": [],
   "source": []
  }
 ],
 "metadata": {
  "kernelspec": {
   "display_name": "detection",
   "language": "python",
   "name": "detection"
  },
  "language_info": {
   "codemirror_mode": {
    "name": "ipython",
    "version": 3
   },
   "file_extension": ".py",
   "mimetype": "text/x-python",
   "name": "python",
   "nbconvert_exporter": "python",
   "pygments_lexer": "ipython3",
   "version": "3.11.9"
  }
 },
 "nbformat": 4,
 "nbformat_minor": 5
}
